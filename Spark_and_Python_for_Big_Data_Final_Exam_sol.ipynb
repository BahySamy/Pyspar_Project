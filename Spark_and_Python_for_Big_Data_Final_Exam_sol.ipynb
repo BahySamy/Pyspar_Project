{
  "nbformat": 4,
  "nbformat_minor": 5,
  "metadata": {
    "kernelspec": {
      "display_name": "Python 3",
      "language": "python",
      "name": "python3"
    },
    "language_info": {
      "codemirror_mode": {
        "name": "ipython",
        "version": 3
      },
      "file_extension": ".py",
      "mimetype": "text/x-python",
      "name": "python",
      "nbconvert_exporter": "python",
      "pygments_lexer": "ipython3",
      "version": "3.8.8"
    },
    "colab": {
      "name": "Spark and Python for Big Data Final Exam.ipynb",
      "provenance": [],
      "collapsed_sections": []
    }
  },
  "cells": [
    {
      "cell_type": "markdown",
      "metadata": {
        "id": "fa486f23"
      },
      "source": [
        "![image.png](attachment:image.png)"
      ],
      "id": "fa486f23"
    },
    {
      "cell_type": "markdown",
      "metadata": {
        "id": "abbf1e33"
      },
      "source": [
        "##### **Good luck with taking your exam. Keep working and make your dreams all come true. Seeing the results of all of your hard work will make this struggle worth it. We’re all thinking of you.** \n",
        "<b><font color='blue'>AI-PRO Spark Team ITI</font></b>"
      ],
      "id": "abbf1e33"
    },
    {
      "cell_type": "markdown",
      "metadata": {
        "id": "8326ba88"
      },
      "source": [
        "## Objective:\n",
        "- The objective from this project is to create a <b>Logistic Regression Classifier</b> to predict the <b>Stroke Condition</b>.\n",
        "- <b>Stoke</b> is a condition in which either the blood flow to the brain stops or blood flow is excessive.\n",
        "- It is required to obtain <b>ROC > 0.65</b>."
      ],
      "id": "8326ba88"
    },
    {
      "cell_type": "markdown",
      "metadata": {
        "id": "0eb78c16"
      },
      "source": [
        "### Data:\n",
        "- Data is provided in csv format in a file named <b>healthcare-dataset-stroke-data.csv</b>"
      ],
      "id": "0eb78c16"
    },
    {
      "cell_type": "markdown",
      "metadata": {
        "id": "7c842b79"
      },
      "source": [
        "### Column names and data types are as follow:\n",
        "- id, integer.\n",
        "- gender, string.\n",
        "- age, double.\n",
        "- hypertension, integer.\n",
        "- heart_disease, integer.\n",
        "- ever_married, string.\n",
        "- work_type, string.\n",
        "- Residence_type, string.\n",
        "- avg_glucose_level, double.\n",
        "- bmi, double.\n",
        "- smoking_status, string.\n",
        "- stroke, integer <b>(Target Label)</b>.\n",
        "If the person has stroke the stroke label value is <b>\"1\"</b> otherwise <b>\"0\"</b>."
      ],
      "id": "7c842b79"
    },
    {
      "cell_type": "markdown",
      "metadata": {
        "id": "6971f788"
      },
      "source": [
        "## To perform this task follow the following guiding steps:"
      ],
      "id": "6971f788"
    },
    {
      "cell_type": "code",
      "metadata": {
        "colab": {
          "base_uri": "https://localhost:8080/"
        },
        "id": "P5R6T9V1sTvZ",
        "outputId": "22d25403-be22-48a1-cbda-05bc8414713f"
      },
      "source": [
        "# colab configiration\n",
        "! pip install pyspark"
      ],
      "id": "P5R6T9V1sTvZ",
      "execution_count": 2,
      "outputs": [
        {
          "output_type": "stream",
          "name": "stdout",
          "text": [
            "Requirement already satisfied: pyspark in /usr/local/lib/python3.7/dist-packages (3.2.0)\n",
            "Requirement already satisfied: py4j==0.10.9.2 in /usr/local/lib/python3.7/dist-packages (from pyspark) (0.10.9.2)\n"
          ]
        }
      ]
    },
    {
      "cell_type": "markdown",
      "metadata": {
        "id": "e31bc851"
      },
      "source": [
        "### Create a spark session and import the required libraries"
      ],
      "id": "e31bc851"
    },
    {
      "cell_type": "code",
      "metadata": {
        "id": "ab3ba311"
      },
      "source": [
        "from pyspark import SparkContext\n",
        "from pyspark.sql import SparkSession\n",
        "from pyspark.sql.functions import *\n",
        "from pyspark.sql.types import *\n",
        "spark = SparkSession.builder.getOrCreate()"
      ],
      "id": "ab3ba311",
      "execution_count": 1,
      "outputs": []
    },
    {
      "cell_type": "markdown",
      "metadata": {
        "id": "843b8468"
      },
      "source": [
        "### Create a data schema programatically"
      ],
      "id": "843b8468"
    },
    {
      "cell_type": "code",
      "metadata": {
        "colab": {
          "base_uri": "https://localhost:8080/",
          "height": 52
        },
        "id": "FN5nXwQpwJHn",
        "outputId": "e265c26b-5f40-485b-fc1b-5d7265eb9c40"
      },
      "source": [
        "customSchema = \"id int, gender string, age double, hypertension int, heart_disease int, ever_married string, work_type string , Residence_type string,avg_glucose_level double, bmi double,smoking_status string, stroke int \"\n",
        "customSchema"
      ],
      "id": "FN5nXwQpwJHn",
      "execution_count": 2,
      "outputs": [
        {
          "output_type": "execute_result",
          "data": {
            "application/vnd.google.colaboratory.intrinsic+json": {
              "type": "string"
            },
            "text/plain": [
              "'id int, gender string, age double, hypertension int, heart_disease int, ever_married string, work_type string , Residence_type string,avg_glucose_level double, bmi double,smoking_status string, stroke int '"
            ]
          },
          "metadata": {},
          "execution_count": 2
        }
      ]
    },
    {
      "cell_type": "markdown",
      "metadata": {
        "id": "2d00718f"
      },
      "source": [
        "### Read the data using the standard DataReader (Key,Value) pairs format\n",
        "- Provide the schema and any other required options."
      ],
      "id": "2d00718f"
    },
    {
      "cell_type": "code",
      "metadata": {
        "id": "61fcc4cd"
      },
      "source": [
        "df = spark.read.format('csv')\\\n",
        ".schema(customSchema)\\\n",
        ".option('header', True)\\\n",
        ".load('/content/healthcare-dataset-stroke-data.csv')"
      ],
      "id": "61fcc4cd",
      "execution_count": 3,
      "outputs": []
    },
    {
      "cell_type": "markdown",
      "metadata": {
        "id": "974bc193"
      },
      "source": [
        "### Explore the data \n",
        "#### You have to do the following:\n",
        "- Print the Schema.\n",
        "- Show the first 10 rows from the data.\n",
        "- Explore null values and show how many null values in each column.\n",
        "- Plot a count plot for the target label and <b>notice the graph</b>.\n",
        "- Perform any additional EDA you find useful."
      ],
      "id": "974bc193"
    },
    {
      "cell_type": "code",
      "metadata": {
        "colab": {
          "base_uri": "https://localhost:8080/"
        },
        "id": "353b6f34",
        "outputId": "a8e62c24-9b97-4df8-8f3a-f60e1f66cf3d"
      },
      "source": [
        "# schema \n",
        "df.printSchema()"
      ],
      "id": "353b6f34",
      "execution_count": 4,
      "outputs": [
        {
          "output_type": "stream",
          "name": "stdout",
          "text": [
            "root\n",
            " |-- id: integer (nullable = true)\n",
            " |-- gender: string (nullable = true)\n",
            " |-- age: double (nullable = true)\n",
            " |-- hypertension: integer (nullable = true)\n",
            " |-- heart_disease: integer (nullable = true)\n",
            " |-- ever_married: string (nullable = true)\n",
            " |-- work_type: string (nullable = true)\n",
            " |-- Residence_type: string (nullable = true)\n",
            " |-- avg_glucose_level: double (nullable = true)\n",
            " |-- bmi: double (nullable = true)\n",
            " |-- smoking_status: string (nullable = true)\n",
            " |-- stroke: integer (nullable = true)\n",
            "\n"
          ]
        }
      ]
    },
    {
      "cell_type": "code",
      "metadata": {
        "colab": {
          "base_uri": "https://localhost:8080/"
        },
        "id": "sFZ8PQAGx0sK",
        "outputId": "8d470561-20a8-4f3e-e6cd-c3b773c9e604"
      },
      "source": [
        "# first 10 rows \n",
        "df.show(10)"
      ],
      "id": "sFZ8PQAGx0sK",
      "execution_count": 5,
      "outputs": [
        {
          "output_type": "stream",
          "name": "stdout",
          "text": [
            "+-----+------+----+------------+-------------+------------+-------------+--------------+-----------------+----+---------------+------+\n",
            "|   id|gender| age|hypertension|heart_disease|ever_married|    work_type|Residence_type|avg_glucose_level| bmi| smoking_status|stroke|\n",
            "+-----+------+----+------------+-------------+------------+-------------+--------------+-----------------+----+---------------+------+\n",
            "| 9046|  Male|67.0|           0|            1|         Yes|      Private|         Urban|           228.69|36.6|formerly smoked|     1|\n",
            "|51676|Female|61.0|           0|            0|         Yes|Self-employed|         Rural|           202.21|null|   never smoked|     1|\n",
            "|31112|  Male|80.0|           0|            1|         Yes|      Private|         Rural|           105.92|32.5|   never smoked|     1|\n",
            "|60182|Female|49.0|           0|            0|         Yes|      Private|         Urban|           171.23|34.4|         smokes|     1|\n",
            "| 1665|Female|79.0|           1|            0|         Yes|Self-employed|         Rural|           174.12|24.0|   never smoked|     1|\n",
            "|56669|  Male|81.0|           0|            0|         Yes|      Private|         Urban|           186.21|29.0|formerly smoked|     1|\n",
            "|53882|  Male|74.0|           1|            1|         Yes|      Private|         Rural|            70.09|27.4|   never smoked|     1|\n",
            "|10434|Female|69.0|           0|            0|          No|      Private|         Urban|            94.39|22.8|   never smoked|     1|\n",
            "|27419|Female|59.0|           0|            0|         Yes|      Private|         Rural|            76.15|null|        Unknown|     1|\n",
            "|60491|Female|78.0|           0|            0|         Yes|      Private|         Urban|            58.57|24.2|        Unknown|     1|\n",
            "+-----+------+----+------------+-------------+------------+-------------+--------------+-----------------+----+---------------+------+\n",
            "only showing top 10 rows\n",
            "\n"
          ]
        }
      ]
    },
    {
      "cell_type": "code",
      "metadata": {
        "colab": {
          "base_uri": "https://localhost:8080/"
        },
        "id": "stdvMQfqyx1L",
        "outputId": "20947eac-94a7-4802-d372-fa674b75977c"
      },
      "source": [
        "# null values \n",
        "null_df = df.select([count(when(isnull(c), c)).alias(c) for c in df.columns])\n",
        "null_df.show()"
      ],
      "id": "stdvMQfqyx1L",
      "execution_count": 6,
      "outputs": [
        {
          "output_type": "stream",
          "name": "stdout",
          "text": [
            "+---+------+---+------------+-------------+------------+---------+--------------+-----------------+---+--------------+------+\n",
            "| id|gender|age|hypertension|heart_disease|ever_married|work_type|Residence_type|avg_glucose_level|bmi|smoking_status|stroke|\n",
            "+---+------+---+------------+-------------+------------+---------+--------------+-----------------+---+--------------+------+\n",
            "|  0|     0|  0|           0|            0|           0|        0|             0|                0|201|             0|     0|\n",
            "+---+------+---+------------+-------------+------------+---------+--------------+-----------------+---+--------------+------+\n",
            "\n"
          ]
        }
      ]
    },
    {
      "cell_type": "code",
      "metadata": {
        "id": "-AiSQ_iVzHOX"
      },
      "source": [
        "# plotting libraries \n",
        "import matplotlib.pyplot as plt\n",
        "import seaborn as sns"
      ],
      "id": "-AiSQ_iVzHOX",
      "execution_count": 5,
      "outputs": []
    },
    {
      "cell_type": "code",
      "metadata": {
        "id": "kGI_pV67z1aQ"
      },
      "source": [
        "df.createOrReplaceTempView(\"tbl\")"
      ],
      "id": "kGI_pV67z1aQ",
      "execution_count": 6,
      "outputs": []
    },
    {
      "cell_type": "code",
      "metadata": {
        "id": "9pwC2tMizVJi"
      },
      "source": [
        "df_target = spark.sql(''' SELECT stroke, count(stroke)\n",
        "              FROM tbl\n",
        "              GROUP BY stroke ''').toPandas()"
      ],
      "id": "9pwC2tMizVJi",
      "execution_count": 7,
      "outputs": []
    },
    {
      "cell_type": "code",
      "metadata": {
        "colab": {
          "base_uri": "https://localhost:8080/",
          "height": 111
        },
        "id": "ekJrnqRqzVOO",
        "outputId": "9450e0e3-29d3-4c2c-9882-a9438526156f"
      },
      "source": [
        "df_target.head()"
      ],
      "id": "ekJrnqRqzVOO",
      "execution_count": 8,
      "outputs": [
        {
          "output_type": "execute_result",
          "data": {
            "text/html": [
              "<div>\n",
              "<style scoped>\n",
              "    .dataframe tbody tr th:only-of-type {\n",
              "        vertical-align: middle;\n",
              "    }\n",
              "\n",
              "    .dataframe tbody tr th {\n",
              "        vertical-align: top;\n",
              "    }\n",
              "\n",
              "    .dataframe thead th {\n",
              "        text-align: right;\n",
              "    }\n",
              "</style>\n",
              "<table border=\"1\" class=\"dataframe\">\n",
              "  <thead>\n",
              "    <tr style=\"text-align: right;\">\n",
              "      <th></th>\n",
              "      <th>stroke</th>\n",
              "      <th>count(stroke)</th>\n",
              "    </tr>\n",
              "  </thead>\n",
              "  <tbody>\n",
              "    <tr>\n",
              "      <th>0</th>\n",
              "      <td>1</td>\n",
              "      <td>249</td>\n",
              "    </tr>\n",
              "    <tr>\n",
              "      <th>1</th>\n",
              "      <td>0</td>\n",
              "      <td>4861</td>\n",
              "    </tr>\n",
              "  </tbody>\n",
              "</table>\n",
              "</div>"
            ],
            "text/plain": [
              "   stroke  count(stroke)\n",
              "0       1            249\n",
              "1       0           4861"
            ]
          },
          "metadata": {},
          "execution_count": 8
        }
      ]
    },
    {
      "cell_type": "code",
      "metadata": {
        "colab": {
          "base_uri": "https://localhost:8080/",
          "height": 296
        },
        "id": "YYEN4qQTzVQ8",
        "outputId": "81512e5c-0500-40f3-e38b-95bdcdf75586"
      },
      "source": [
        "sns.barplot(y ='count(stroke)', data = df_target, x = 'stroke')"
      ],
      "id": "YYEN4qQTzVQ8",
      "execution_count": 11,
      "outputs": [
        {
          "output_type": "execute_result",
          "data": {
            "text/plain": [
              "<matplotlib.axes._subplots.AxesSubplot at 0x7f374b99cbd0>"
            ]
          },
          "metadata": {},
          "execution_count": 11
        },
        {
          "output_type": "display_data",
          "data": {
            "image/png": "[encoded data removed]",
            "text/plain": [
              "<Figure size 432x288 with 1 Axes>"
            ]
          },
          "metadata": {
            "needs_background": "light"
          }
        }
      ]
    },
    {
      "cell_type": "code",
      "metadata": {
        "id": "6fb198f0",
        "outputId": "3f729271-ec2a-479d-d2b8-8e204bdb2e87"
      },
      "source": [
        ""
      ],
      "id": "6fb198f0",
      "execution_count": null,
      "outputs": [
        {
          "data": {
            "text/plain": [
              "<AxesSubplot:xlabel='stroke', ylabel='count'>"
            ]
          },
          "execution_count": 13,
          "metadata": {},
          "output_type": "execute_result"
        },
        {
          "data": {
            "image/png": "[encoded data removed]",
            "text/plain": [
              "<Figure size 432x288 with 1 Axes>"
            ]
          },
          "metadata": {
            "needs_background": "light"
          },
          "output_type": "display_data"
        }
      ]
    },
    {
      "cell_type": "code",
      "metadata": {
        "id": "SbNEioaI2KqV"
      },
      "source": [
        ""
      ],
      "id": "SbNEioaI2KqV",
      "execution_count": null,
      "outputs": []
    },
    {
      "cell_type": "markdown",
      "metadata": {
        "id": "59b770cb"
      },
      "source": [
        "### Get the summary statistics of the age column\n",
        "- You will find the minimum age is about <b>0.08</b>.\n",
        "- Remove rows for the age below <b>2 years old</b>."
      ],
      "id": "59b770cb"
    },
    {
      "cell_type": "code",
      "metadata": {
        "colab": {
          "base_uri": "https://localhost:8080/"
        },
        "id": "Rrb2z4x12VrV",
        "outputId": "b57e7a20-d712-4a2d-973b-96b6a54c55be"
      },
      "source": [
        "df.select('age').describe().show()"
      ],
      "id": "Rrb2z4x12VrV",
      "execution_count": 12,
      "outputs": [
        {
          "output_type": "stream",
          "name": "stdout",
          "text": [
            "+-------+------------------+\n",
            "|summary|               age|\n",
            "+-------+------------------+\n",
            "|  count|              5110|\n",
            "|   mean|43.226614481409015|\n",
            "| stddev| 22.61264672311348|\n",
            "|    min|              0.08|\n",
            "|    max|              82.0|\n",
            "+-------+------------------+\n",
            "\n"
          ]
        }
      ]
    },
    {
      "cell_type": "code",
      "metadata": {
        "scrolled": false,
        "id": "ed40fb11",
        "outputId": "28cc78e3-3f14-48e4-b764-0107e8f36a96"
      },
      "source": [
        ""
      ],
      "id": "ed40fb11",
      "execution_count": null,
      "outputs": [
        {
          "name": "stdout",
          "output_type": "stream",
          "text": [
            "+-------+------------------+\n",
            "|summary|               age|\n",
            "+-------+------------------+\n",
            "|  count|              5110|\n",
            "|   mean|43.226614481409015|\n",
            "| stddev| 22.61264672311348|\n",
            "|    min|              0.08|\n",
            "|    max|              82.0|\n",
            "+-------+------------------+\n",
            "\n"
          ]
        }
      ]
    },
    {
      "cell_type": "code",
      "metadata": {
        "id": "cc99c0be"
      },
      "source": [
        "# Removing rows of ages < 2 \n",
        "df_filtered=df.filter(df.age>=2)"
      ],
      "id": "cc99c0be",
      "execution_count": 9,
      "outputs": []
    },
    {
      "cell_type": "code",
      "metadata": {
        "colab": {
          "base_uri": "https://localhost:8080/"
        },
        "id": "ZEDEtyM_3z7U",
        "outputId": "82a6606c-c177-4c14-f3a1-c7476ab4cf49"
      },
      "source": [
        "df_filtered.select('age').describe().show()"
      ],
      "id": "ZEDEtyM_3z7U",
      "execution_count": 10,
      "outputs": [
        {
          "output_type": "stream",
          "name": "stdout",
          "text": [
            "+-------+------------------+\n",
            "|summary|               age|\n",
            "+-------+------------------+\n",
            "|  count|              4990|\n",
            "|   mean| 44.23907815631262|\n",
            "| stddev|21.908077881917443|\n",
            "|    min|               2.0|\n",
            "|    max|              82.0|\n",
            "+-------+------------------+\n",
            "\n"
          ]
        }
      ]
    },
    {
      "cell_type": "markdown",
      "metadata": {
        "id": "bf8c9498"
      },
      "source": [
        "### Working with gender & smoking_status columns:\n",
        "- Select and show the gender & smoking_status columns\n",
        "- Get the distinct values for each column."
      ],
      "id": "bf8c9498"
    },
    {
      "cell_type": "code",
      "metadata": {
        "colab": {
          "base_uri": "https://localhost:8080/"
        },
        "id": "gez9UdpL3_DF",
        "outputId": "c6ee89b8-3252-44aa-af54-7aeb93eec3cf"
      },
      "source": [
        "df_filtered.select('gender','smoking_status').show()"
      ],
      "id": "gez9UdpL3_DF",
      "execution_count": 11,
      "outputs": [
        {
          "output_type": "stream",
          "name": "stdout",
          "text": [
            "+------+---------------+\n",
            "|gender| smoking_status|\n",
            "+------+---------------+\n",
            "|  Male|formerly smoked|\n",
            "|Female|   never smoked|\n",
            "|  Male|   never smoked|\n",
            "|Female|         smokes|\n",
            "|Female|   never smoked|\n",
            "|  Male|formerly smoked|\n",
            "|  Male|   never smoked|\n",
            "|Female|   never smoked|\n",
            "|Female|        Unknown|\n",
            "|Female|        Unknown|\n",
            "|Female|   never smoked|\n",
            "|Female|         smokes|\n",
            "|Female|         smokes|\n",
            "|  Male|        Unknown|\n",
            "|Female|   never smoked|\n",
            "|Female|   never smoked|\n",
            "|  Male|         smokes|\n",
            "|  Male|         smokes|\n",
            "|Female|   never smoked|\n",
            "|  Male|        Unknown|\n",
            "+------+---------------+\n",
            "only showing top 20 rows\n",
            "\n"
          ]
        }
      ]
    },
    {
      "cell_type": "code",
      "metadata": {
        "id": "9TIQ-MqF3_Ut"
      },
      "source": [
        ""
      ],
      "id": "9TIQ-MqF3_Ut",
      "execution_count": null,
      "outputs": []
    },
    {
      "cell_type": "code",
      "metadata": {
        "id": "925a5ecd",
        "outputId": "b42e7fa3-5d80-4499-a3ce-ebd11aa8759f"
      },
      "source": [
        ""
      ],
      "id": "925a5ecd",
      "execution_count": null,
      "outputs": [
        {
          "name": "stdout",
          "output_type": "stream",
          "text": [
            "+------+---------------+\n",
            "|gender| smoking_status|\n",
            "+------+---------------+\n",
            "|  Male|formerly smoked|\n",
            "|Female|   never smoked|\n",
            "|  Male|   never smoked|\n",
            "|Female|         smokes|\n",
            "|Female|   never smoked|\n",
            "|  Male|formerly smoked|\n",
            "|  Male|   never smoked|\n",
            "|Female|   never smoked|\n",
            "|Female|        Unknown|\n",
            "|Female|        Unknown|\n",
            "|Female|   never smoked|\n",
            "|Female|         smokes|\n",
            "|Female|         smokes|\n",
            "|  Male|        Unknown|\n",
            "|Female|   never smoked|\n",
            "|Female|   never smoked|\n",
            "|  Male|         smokes|\n",
            "|  Male|         smokes|\n",
            "|Female|   never smoked|\n",
            "|  Male|        Unknown|\n",
            "+------+---------------+\n",
            "only showing top 20 rows\n",
            "\n"
          ]
        }
      ]
    },
    {
      "cell_type": "code",
      "metadata": {
        "colab": {
          "base_uri": "https://localhost:8080/"
        },
        "id": "fcukp7Gz4SU2",
        "outputId": "cf842808-d2f5-4899-98f2-fcde41a7db80"
      },
      "source": [
        "df_filtered.select('gender').distinct().show()"
      ],
      "id": "fcukp7Gz4SU2",
      "execution_count": 70,
      "outputs": [
        {
          "output_type": "stream",
          "name": "stdout",
          "text": [
            "+------+\n",
            "|gender|\n",
            "+------+\n",
            "|Female|\n",
            "| Other|\n",
            "|  Male|\n",
            "+------+\n",
            "\n"
          ]
        }
      ]
    },
    {
      "cell_type": "code",
      "metadata": {
        "id": "9dfe35a4",
        "outputId": "f11638ed-a9c8-4f49-be3a-b04fd7238f8c"
      },
      "source": [
        ""
      ],
      "id": "9dfe35a4",
      "execution_count": null,
      "outputs": [
        {
          "name": "stdout",
          "output_type": "stream",
          "text": [
            "+------+\n",
            "|gender|\n",
            "+------+\n",
            "|Female|\n",
            "| Other|\n",
            "|  Male|\n",
            "+------+\n",
            "\n"
          ]
        }
      ]
    },
    {
      "cell_type": "code",
      "metadata": {
        "colab": {
          "base_uri": "https://localhost:8080/"
        },
        "id": "u02SRXso4jeS",
        "outputId": "21a683d8-f78c-46e8-f599-63a3436ef6ab"
      },
      "source": [
        "df_filtered.select('smoking_status').distinct().show()"
      ],
      "id": "u02SRXso4jeS",
      "execution_count": 71,
      "outputs": [
        {
          "output_type": "stream",
          "name": "stdout",
          "text": [
            "+---------------+\n",
            "| smoking_status|\n",
            "+---------------+\n",
            "|         smokes|\n",
            "|        Unknown|\n",
            "|   never smoked|\n",
            "|formerly smoked|\n",
            "+---------------+\n",
            "\n"
          ]
        }
      ]
    },
    {
      "cell_type": "code",
      "metadata": {
        "id": "b7bf6c7e",
        "outputId": "0f1c91a7-ff60-4905-fdf6-68801e6c83cf"
      },
      "source": [
        ""
      ],
      "id": "b7bf6c7e",
      "execution_count": null,
      "outputs": [
        {
          "name": "stdout",
          "output_type": "stream",
          "text": [
            "+---------------+\n",
            "| smoking_status|\n",
            "+---------------+\n",
            "|         smokes|\n",
            "|        Unknown|\n",
            "|   never smoked|\n",
            "|formerly smoked|\n",
            "+---------------+\n",
            "\n"
          ]
        }
      ]
    },
    {
      "cell_type": "markdown",
      "metadata": {
        "id": "850bdfe1"
      },
      "source": [
        "#### Change the string values of the columns into numerical values as follow:\n",
        "1. Gender column:\n",
        "    * Male = 1 \n",
        "    * Female = 0 \n",
        "    * Other = 0 \n",
        "2. Smoking Status column:\n",
        "  * never smoked = 0\n",
        "  * Unknown = 0.5\n",
        "  * formerly smoked = 0.75\n",
        "  * smokes = 1.0\n"
      ],
      "id": "850bdfe1"
    },
    {
      "cell_type": "code",
      "metadata": {
        "id": "355f2ef0"
      },
      "source": [
        "# gender columns \n",
        "gender_dict = {'Male': 1.0, 'Female':0.0, 'Other':0.0}\n",
        "smoking_status_dict = {'never smoked': 0.0, 'Unknown':0.5, 'formerly smoked':0.75, 'smokes':1.0}"
      ],
      "id": "355f2ef0",
      "execution_count": 31,
      "outputs": []
    },
    {
      "cell_type": "code",
      "metadata": {
        "id": "OiUSZNnJ6F1z"
      },
      "source": [
        "def impute_gender(title):\n",
        "    return gender_dict[title]"
      ],
      "id": "OiUSZNnJ6F1z",
      "execution_count": 32,
      "outputs": []
    },
    {
      "cell_type": "code",
      "metadata": {
        "id": "G-4DnlcD6Shh"
      },
      "source": [
        "def impute_smoking_status(title):\n",
        "    return smoking_status_dict[title]"
      ],
      "id": "G-4DnlcD6Shh",
      "execution_count": 33,
      "outputs": []
    },
    {
      "cell_type": "code",
      "metadata": {
        "id": "ofZTpDWw6eNo"
      },
      "source": [
        "imputeGender = udf(lambda z: impute_gender(z), DoubleType())"
      ],
      "id": "ofZTpDWw6eNo",
      "execution_count": 34,
      "outputs": []
    },
    {
      "cell_type": "code",
      "metadata": {
        "id": "oZAmfckW6lBJ"
      },
      "source": [
        "imputeSmoking = udf(lambda z: impute_smoking_status(z), DoubleType())"
      ],
      "id": "oZAmfckW6lBJ",
      "execution_count": 35,
      "outputs": []
    },
    {
      "cell_type": "code",
      "metadata": {
        "id": "WLCcISLk6GE-"
      },
      "source": [
        "df_new = df_filtered.withColumn(\"gender\", imputeGender(\"gender\"))"
      ],
      "id": "WLCcISLk6GE-",
      "execution_count": 36,
      "outputs": []
    },
    {
      "cell_type": "code",
      "metadata": {
        "colab": {
          "base_uri": "https://localhost:8080/"
        },
        "id": "0MqKjDIj9tQ_",
        "outputId": "c509b17f-850b-4647-caf1-640f6556a24a"
      },
      "source": [
        "df_new.select('gender').show()"
      ],
      "id": "0MqKjDIj9tQ_",
      "execution_count": 37,
      "outputs": [
        {
          "output_type": "stream",
          "name": "stdout",
          "text": [
            "+------+\n",
            "|gender|\n",
            "+------+\n",
            "|   1.0|\n",
            "|   0.0|\n",
            "|   1.0|\n",
            "|   0.0|\n",
            "|   0.0|\n",
            "|   1.0|\n",
            "|   1.0|\n",
            "|   0.0|\n",
            "|   0.0|\n",
            "|   0.0|\n",
            "|   0.0|\n",
            "|   0.0|\n",
            "|   0.0|\n",
            "|   1.0|\n",
            "|   0.0|\n",
            "|   0.0|\n",
            "|   1.0|\n",
            "|   1.0|\n",
            "|   0.0|\n",
            "|   1.0|\n",
            "+------+\n",
            "only showing top 20 rows\n",
            "\n"
          ]
        }
      ]
    },
    {
      "cell_type": "code",
      "metadata": {
        "id": "drEuXsbY7l6r"
      },
      "source": [
        "df_updated = df_new.withColumn(\"smoking_status\", imputeSmoking(\"smoking_status\"))"
      ],
      "id": "drEuXsbY7l6r",
      "execution_count": 38,
      "outputs": []
    },
    {
      "cell_type": "code",
      "metadata": {
        "colab": {
          "base_uri": "https://localhost:8080/"
        },
        "id": "LTFDaktq-GCN",
        "outputId": "a1aa11ad-1e18-4e5e-aa5b-f04cd25ffea0"
      },
      "source": [
        "df_updated.select('smoking_status').show()"
      ],
      "id": "LTFDaktq-GCN",
      "execution_count": 39,
      "outputs": [
        {
          "output_type": "stream",
          "name": "stdout",
          "text": [
            "+--------------+\n",
            "|smoking_status|\n",
            "+--------------+\n",
            "|          0.75|\n",
            "|           0.0|\n",
            "|           0.0|\n",
            "|           1.0|\n",
            "|           0.0|\n",
            "|          0.75|\n",
            "|           0.0|\n",
            "|           0.0|\n",
            "|           0.5|\n",
            "|           0.5|\n",
            "|           0.0|\n",
            "|           1.0|\n",
            "|           1.0|\n",
            "|           0.5|\n",
            "|           0.0|\n",
            "|           0.0|\n",
            "|           1.0|\n",
            "|           1.0|\n",
            "|           0.0|\n",
            "|           0.5|\n",
            "+--------------+\n",
            "only showing top 20 rows\n",
            "\n"
          ]
        }
      ]
    },
    {
      "cell_type": "markdown",
      "metadata": {
        "id": "3da38a31"
      },
      "source": [
        "#### Show the output DataFrame\n",
        "- Select and show the gender & smoking_status columns after value changing.\n",
        "- Print schema for the new dataframe."
      ],
      "id": "3da38a31"
    },
    {
      "cell_type": "code",
      "metadata": {
        "colab": {
          "base_uri": "https://localhost:8080/"
        },
        "id": "DiPWwCgW9AeZ",
        "outputId": "89cc54ee-3b54-44a7-da00-1a55653b3c93"
      },
      "source": [
        "df_updated.select('gender','smoking_status').show()"
      ],
      "id": "DiPWwCgW9AeZ",
      "execution_count": 40,
      "outputs": [
        {
          "output_type": "stream",
          "name": "stdout",
          "text": [
            "+------+--------------+\n",
            "|gender|smoking_status|\n",
            "+------+--------------+\n",
            "|   1.0|          0.75|\n",
            "|   0.0|           0.0|\n",
            "|   1.0|           0.0|\n",
            "|   0.0|           1.0|\n",
            "|   0.0|           0.0|\n",
            "|   1.0|          0.75|\n",
            "|   1.0|           0.0|\n",
            "|   0.0|           0.0|\n",
            "|   0.0|           0.5|\n",
            "|   0.0|           0.5|\n",
            "|   0.0|           0.0|\n",
            "|   0.0|           1.0|\n",
            "|   0.0|           1.0|\n",
            "|   1.0|           0.5|\n",
            "|   0.0|           0.0|\n",
            "|   0.0|           0.0|\n",
            "|   1.0|           1.0|\n",
            "|   1.0|           1.0|\n",
            "|   0.0|           0.0|\n",
            "|   1.0|           0.5|\n",
            "+------+--------------+\n",
            "only showing top 20 rows\n",
            "\n"
          ]
        }
      ]
    },
    {
      "cell_type": "code",
      "metadata": {
        "id": "7df0cf29",
        "outputId": "90fc6f8b-57e9-4171-abf5-ecd0e5a8d26c"
      },
      "source": [
        ""
      ],
      "id": "7df0cf29",
      "execution_count": null,
      "outputs": [
        {
          "name": "stdout",
          "output_type": "stream",
          "text": [
            "+------+--------------+\n",
            "|gender|smoking_status|\n",
            "+------+--------------+\n",
            "|     1|          0.75|\n",
            "|     0|           0.0|\n",
            "|     1|           0.0|\n",
            "|     0|           1.0|\n",
            "|     0|           0.0|\n",
            "|     1|          0.75|\n",
            "|     1|           0.0|\n",
            "|     0|           0.0|\n",
            "|     0|           0.5|\n",
            "|     0|           0.5|\n",
            "|     0|           0.0|\n",
            "|     0|           1.0|\n",
            "|     0|           1.0|\n",
            "|     1|           0.5|\n",
            "|     0|           0.0|\n",
            "|     0|           0.0|\n",
            "|     1|           1.0|\n",
            "|     1|           1.0|\n",
            "|     0|           0.0|\n",
            "|     1|           0.5|\n",
            "+------+--------------+\n",
            "only showing top 20 rows\n",
            "\n"
          ]
        }
      ]
    },
    {
      "cell_type": "code",
      "metadata": {
        "colab": {
          "base_uri": "https://localhost:8080/"
        },
        "id": "8d0ONRlS-VYa",
        "outputId": "e0561b79-3458-426f-d15d-305a3b3b2581"
      },
      "source": [
        "df_updated.printSchema()"
      ],
      "id": "8d0ONRlS-VYa",
      "execution_count": 41,
      "outputs": [
        {
          "output_type": "stream",
          "name": "stdout",
          "text": [
            "root\n",
            " |-- id: integer (nullable = true)\n",
            " |-- gender: double (nullable = true)\n",
            " |-- age: double (nullable = true)\n",
            " |-- hypertension: integer (nullable = true)\n",
            " |-- heart_disease: integer (nullable = true)\n",
            " |-- ever_married: string (nullable = true)\n",
            " |-- work_type: string (nullable = true)\n",
            " |-- Residence_type: string (nullable = true)\n",
            " |-- avg_glucose_level: double (nullable = true)\n",
            " |-- bmi: double (nullable = true)\n",
            " |-- smoking_status: double (nullable = true)\n",
            " |-- stroke: integer (nullable = true)\n",
            "\n"
          ]
        }
      ]
    },
    {
      "cell_type": "markdown",
      "metadata": {
        "id": "89ce3b77"
      },
      "source": [
        "### Deal with null value according to your data analysis."
      ],
      "id": "89ce3b77"
    },
    {
      "cell_type": "code",
      "metadata": {
        "id": "boYfvnXvAE0T"
      },
      "source": [
        "df_pandas = df_updated.toPandas()"
      ],
      "id": "boYfvnXvAE0T",
      "execution_count": 47,
      "outputs": []
    },
    {
      "cell_type": "code",
      "metadata": {
        "colab": {
          "base_uri": "https://localhost:8080/"
        },
        "id": "4d78cb87",
        "outputId": "7cfb800f-713b-4d8c-c0a3-6a73e2462487"
      },
      "source": [
        "# from eda bmi is skewed so i used median \n",
        "bmi_median = df_pandas['bmi'].median()\n",
        "bmi_median"
      ],
      "id": "4d78cb87",
      "execution_count": 48,
      "outputs": [
        {
          "output_type": "execute_result",
          "data": {
            "text/plain": [
              "28.3"
            ]
          },
          "metadata": {},
          "execution_count": 48
        }
      ]
    },
    {
      "cell_type": "code",
      "metadata": {
        "id": "GwmpRrj0AYOJ"
      },
      "source": [
        "df_final = df_updated.na.fill(value=bmi_median,subset=[\"bmi\"])"
      ],
      "id": "GwmpRrj0AYOJ",
      "execution_count": 49,
      "outputs": []
    },
    {
      "cell_type": "code",
      "metadata": {
        "colab": {
          "base_uri": "https://localhost:8080/"
        },
        "id": "ySjFp0JdAi1N",
        "outputId": "76013789-7429-4f2a-ee3c-2a38af0609e2"
      },
      "source": [
        "df_final.select([count(when(isnull(c), c)).alias(c) for c in df.columns]).show()"
      ],
      "id": "ySjFp0JdAi1N",
      "execution_count": 50,
      "outputs": [
        {
          "output_type": "stream",
          "name": "stdout",
          "text": [
            "+---+------+---+------------+-------------+------------+---------+--------------+-----------------+---+--------------+------+\n",
            "| id|gender|age|hypertension|heart_disease|ever_married|work_type|Residence_type|avg_glucose_level|bmi|smoking_status|stroke|\n",
            "+---+------+---+------------+-------------+------------+---------+--------------+-----------------+---+--------------+------+\n",
            "|  0|     0|  0|           0|            0|           0|        0|             0|                0|  0|             0|     0|\n",
            "+---+------+---+------------+-------------+------------+---------+--------------+-----------------+---+--------------+------+\n",
            "\n"
          ]
        }
      ]
    },
    {
      "cell_type": "markdown",
      "metadata": {
        "id": "053c429a"
      },
      "source": [
        "### Split the data into training and test dataframes:\n",
        "- 80% training and 20% test.\n",
        "- seed = 42.\n",
        "- Save each dataframe as a parquet file"
      ],
      "id": "053c429a"
    },
    {
      "cell_type": "code",
      "metadata": {
        "colab": {
          "base_uri": "https://localhost:8080/"
        },
        "id": "0236ea8b",
        "outputId": "7c2e5ff9-3578-44ad-9b31-3af4fa963132"
      },
      "source": [
        "# Splitting data \n",
        "trainDF, testDF = df_final.randomSplit([.8,.2],seed=42)\n",
        "print(f\"There are {trainDF.count()} rows in the training set, and {testDF.count()} in the test set\")"
      ],
      "id": "0236ea8b",
      "execution_count": 51,
      "outputs": [
        {
          "output_type": "stream",
          "name": "stdout",
          "text": [
            "There are 4037 rows in the training set, and 953 in the test set\n"
          ]
        }
      ]
    },
    {
      "cell_type": "code",
      "metadata": {
        "id": "4OB8Kk9zBEE1"
      },
      "source": [
        "trainDF.write.parquet('/content/trainDF.parquet')\n",
        "testDF.write.parquet('/content/testDF.parquet')"
      ],
      "id": "4OB8Kk9zBEE1",
      "execution_count": 52,
      "outputs": []
    },
    {
      "cell_type": "markdown",
      "metadata": {
        "id": "78fa24da"
      },
      "source": [
        "### Read the saved Train and Test DataFrame:\n",
        "- Use the dataframes you read in the subsequent steps."
      ],
      "id": "78fa24da"
    },
    {
      "cell_type": "code",
      "metadata": {
        "id": "c3f5c1e3"
      },
      "source": [
        "trainDF = spark.read.parquet('/content/trainDF.parquet', inferschema = True)\n",
        "testDF = spark.read.parquet('/content/testDF.parquet', inferschema = True)"
      ],
      "id": "c3f5c1e3",
      "execution_count": 55,
      "outputs": []
    },
    {
      "cell_type": "code",
      "metadata": {
        "colab": {
          "base_uri": "https://localhost:8080/"
        },
        "id": "7imJT_YdCFiN",
        "outputId": "6e2078b9-a84e-4392-f12a-19e0bb9bca24"
      },
      "source": [
        "trainDF.printSchema()"
      ],
      "id": "7imJT_YdCFiN",
      "execution_count": 56,
      "outputs": [
        {
          "output_type": "stream",
          "name": "stdout",
          "text": [
            "root\n",
            " |-- id: integer (nullable = true)\n",
            " |-- gender: double (nullable = true)\n",
            " |-- age: double (nullable = true)\n",
            " |-- hypertension: integer (nullable = true)\n",
            " |-- heart_disease: integer (nullable = true)\n",
            " |-- ever_married: string (nullable = true)\n",
            " |-- work_type: string (nullable = true)\n",
            " |-- Residence_type: string (nullable = true)\n",
            " |-- avg_glucose_level: double (nullable = true)\n",
            " |-- bmi: double (nullable = true)\n",
            " |-- smoking_status: double (nullable = true)\n",
            " |-- stroke: integer (nullable = true)\n",
            "\n"
          ]
        }
      ]
    },
    {
      "cell_type": "code",
      "metadata": {
        "colab": {
          "base_uri": "https://localhost:8080/"
        },
        "id": "07MIVICgCRXi",
        "outputId": "e61baaed-3199-472a-a472-d1a6bea62134"
      },
      "source": [
        "testDF.printSchema()"
      ],
      "id": "07MIVICgCRXi",
      "execution_count": 57,
      "outputs": [
        {
          "output_type": "stream",
          "name": "stdout",
          "text": [
            "root\n",
            " |-- id: integer (nullable = true)\n",
            " |-- gender: double (nullable = true)\n",
            " |-- age: double (nullable = true)\n",
            " |-- hypertension: integer (nullable = true)\n",
            " |-- heart_disease: integer (nullable = true)\n",
            " |-- ever_married: string (nullable = true)\n",
            " |-- work_type: string (nullable = true)\n",
            " |-- Residence_type: string (nullable = true)\n",
            " |-- avg_glucose_level: double (nullable = true)\n",
            " |-- bmi: double (nullable = true)\n",
            " |-- smoking_status: double (nullable = true)\n",
            " |-- stroke: integer (nullable = true)\n",
            "\n"
          ]
        }
      ]
    },
    {
      "cell_type": "markdown",
      "metadata": {
        "id": "987b4b40"
      },
      "source": [
        "### Create the model:\n",
        "- Perform feature engineering steps.\n",
        "- Create the logistic regression classifier.\n",
        "- Build the pipeline model that uses all feature engineering steps and the model.\n",
        "- Train the pipeline model using the trainig dataset."
      ],
      "id": "987b4b40"
    },
    {
      "cell_type": "code",
      "metadata": {
        "id": "3278e362"
      },
      "source": [
        "from pyspark.ml.feature import StringIndexer, OneHotEncoder"
      ],
      "id": "3278e362",
      "execution_count": 58,
      "outputs": []
    },
    {
      "cell_type": "code",
      "metadata": {
        "id": "4e41b352"
      },
      "source": [
        "stringIndexer = StringIndexer(inputCols=[ 'ever_married', 'work_type', 'Residence_type'],\n",
        "                             outputCols=[ 'ever_married_idx', 'work_type_idx', 'Residence_type_idx'],\n",
        "                             handleInvalid='skip')"
      ],
      "id": "4e41b352",
      "execution_count": 59,
      "outputs": []
    },
    {
      "cell_type": "code",
      "metadata": {
        "id": "yadU1L1ED1-w"
      },
      "source": [
        "oheEncoder = OneHotEncoder(inputCols=['ever_married_idx', 'work_type_idx', 'Residence_type_idx'],\n",
        "                          outputCols=['ever_married_ohe', 'work_type_ohe', 'Residence_type_ohe'])"
      ],
      "id": "yadU1L1ED1-w",
      "execution_count": 60,
      "outputs": []
    },
    {
      "cell_type": "code",
      "metadata": {
        "id": "106453d7"
      },
      "source": [
        "from pyspark.ml.feature import VectorAssembler"
      ],
      "id": "106453d7",
      "execution_count": 61,
      "outputs": []
    },
    {
      "cell_type": "code",
      "metadata": {
        "id": "E5RCqroAELI8"
      },
      "source": [
        "vectorAssembler = VectorAssembler(inputCols=['gender', 'age', 'hypertension', 'heart_disease', 'avg_glucose_level', 'bmi','smoking_status' ,'ever_married_ohe', 'work_type_ohe', 'Residence_type_ohe'],\n",
        "                                  outputCol ='features')"
      ],
      "id": "E5RCqroAELI8",
      "execution_count": 62,
      "outputs": []
    },
    {
      "cell_type": "code",
      "metadata": {
        "colab": {
          "base_uri": "https://localhost:8080/"
        },
        "id": "N5ZYwb0VE_M9",
        "outputId": "94f457f1-7d5f-46b8-959e-98c15eee9f71"
      },
      "source": [
        "vectorAssembler"
      ],
      "id": "N5ZYwb0VE_M9",
      "execution_count": 63,
      "outputs": [
        {
          "output_type": "execute_result",
          "data": {
            "text/plain": [
              "VectorAssembler_09334ce526a5"
            ]
          },
          "metadata": {},
          "execution_count": 63
        }
      ]
    },
    {
      "cell_type": "code",
      "metadata": {
        "id": "p4Mi6IsdFA7Z"
      },
      "source": [
        "from pyspark.ml.classification import LogisticRegression"
      ],
      "id": "p4Mi6IsdFA7Z",
      "execution_count": 64,
      "outputs": []
    },
    {
      "cell_type": "code",
      "metadata": {
        "id": "ReuWaBQHFi2x"
      },
      "source": [
        "lr = LogisticRegression(featuresCol='features',labelCol='stroke')"
      ],
      "id": "ReuWaBQHFi2x",
      "execution_count": 65,
      "outputs": []
    },
    {
      "cell_type": "code",
      "metadata": {
        "id": "l6EGTdypFuQb"
      },
      "source": [
        "from pyspark.ml import Pipeline"
      ],
      "id": "l6EGTdypFuQb",
      "execution_count": 66,
      "outputs": []
    },
    {
      "cell_type": "code",
      "metadata": {
        "id": "DM24G4p_Fw2x"
      },
      "source": [
        "pipeline = Pipeline(stages=[stringIndexer,oheEncoder, vectorAssembler, lr])"
      ],
      "id": "DM24G4p_Fw2x",
      "execution_count": 67,
      "outputs": []
    },
    {
      "cell_type": "code",
      "metadata": {
        "id": "W756L73uF7pU"
      },
      "source": [
        "pipelineModel = pipeline.fit(trainDF)"
      ],
      "id": "W756L73uF7pU",
      "execution_count": 68,
      "outputs": []
    },
    {
      "cell_type": "code",
      "metadata": {
        "id": "2hRIzjALF_XY"
      },
      "source": [
        ""
      ],
      "id": "2hRIzjALF_XY",
      "execution_count": null,
      "outputs": []
    },
    {
      "cell_type": "markdown",
      "metadata": {
        "id": "a05c2677"
      },
      "source": [
        "### Perform predictions on tests dataframe:\n",
        "- Test the model using the test dataframe\n",
        "- Select and show the feature column.\n",
        "- Print the schema of the output dataframe.\n",
        "- Select and show both prediction and label columns.\n",
        "- Explore the results for the label column stroke=1. i.e. select both columns (prediction,stroke) for stroke=1.<b>notice the result.</b> \n",
        "- Count the predicted 1 and 0 values.<b>notice the result.</b>   "
      ],
      "id": "a05c2677"
    },
    {
      "cell_type": "code",
      "metadata": {
        "id": "_LWchzlGGKaE"
      },
      "source": [
        "predDF = pipelineModel.transform(testDF)"
      ],
      "id": "_LWchzlGGKaE",
      "execution_count": 69,
      "outputs": []
    },
    {
      "cell_type": "code",
      "metadata": {
        "colab": {
          "base_uri": "https://localhost:8080/"
        },
        "id": "F5TKrzylGQbR",
        "outputId": "ba88c051-919f-478b-8e20-263ed567bde0"
      },
      "source": [
        "predDF.select('features').show(20, truncate = False)"
      ],
      "id": "F5TKrzylGQbR",
      "execution_count": 73,
      "outputs": [
        {
          "output_type": "stream",
          "name": "stdout",
          "text": [
            "+-----------------------------------------------------------+\n",
            "|features                                                   |\n",
            "+-----------------------------------------------------------+\n",
            "|(13,[0,1,4,5,7,8,12],[1.0,55.0,89.17,31.5,1.0,1.0,1.0])    |\n",
            "|(13,[1,4,5,8,12],[24.0,97.55,26.2,1.0,1.0])                |\n",
            "|(13,[1,4,5,7,8],[33.0,86.97,42.2,1.0,1.0])                 |\n",
            "|(13,[1,4,5,6,7,8],[43.0,88.23,37.6,0.5,1.0,1.0])           |\n",
            "|(13,[0,1,4,5,7,8,12],[1.0,79.0,198.79,24.9,1.0,1.0,1.0])   |\n",
            "|(13,[1,4,5,7,8],[43.0,110.32,28.4,1.0,1.0])                |\n",
            "|(13,[0,1,2,4,5,7,9],[1.0,78.0,1.0,75.19,27.6,1.0,1.0])     |\n",
            "|(13,[1,4,5,7,9,12],[74.0,74.96,26.6,1.0,1.0,1.0])          |\n",
            "|(13,[1,4,5,6,11],[14.0,92.22,22.8,0.5,1.0])                |\n",
            "|(13,[0,1,4,5,6,7,8],[1.0,69.0,101.52,26.8,1.0,1.0,1.0])    |\n",
            "|(13,[0,1,4,5,6,7,10],[1.0,52.0,87.26,40.1,1.0,1.0,1.0])    |\n",
            "|(13,[1,2,3,4,5,6,8],[82.0,1.0,1.0,84.03,26.5,0.75,1.0])    |\n",
            "|(13,[0,1,4,5,8],[1.0,17.0,81.77,44.7,1.0])                 |\n",
            "|(13,[1,4,5,6,7,9],[73.0,79.69,28.3,0.75,1.0,1.0])          |\n",
            "|(13,[1,2,4,5,7,8],[59.0,1.0,99.06,23.4,1.0,1.0])           |\n",
            "|(13,[1,4,5,6,7,10,12],[60.0,80.86,31.0,1.0,1.0,1.0,1.0])   |\n",
            "|(13,[1,4,5,8,12],[14.0,83.42,28.7,1.0,1.0])                |\n",
            "|[1.0,69.0,1.0,0.0,229.21,30.1,1.0,1.0,1.0,0.0,0.0,0.0,1.0] |\n",
            "|[1.0,70.0,0.0,0.0,202.55,28.3,0.75,1.0,0.0,0.0,1.0,0.0,1.0]|\n",
            "|(13,[1,4,5,8,12],[29.0,71.89,27.6,1.0,1.0])                |\n",
            "+-----------------------------------------------------------+\n",
            "only showing top 20 rows\n",
            "\n"
          ]
        }
      ]
    },
    {
      "cell_type": "code",
      "metadata": {
        "id": "d772bef6",
        "outputId": "b446ea9e-7b4d-4840-9b7f-66ee1f688fa6"
      },
      "source": [
        ""
      ],
      "id": "d772bef6",
      "execution_count": null,
      "outputs": [
        {
          "name": "stdout",
          "output_type": "stream",
          "text": [
            "+-----------------------------------------------------------+\n",
            "|features                                                   |\n",
            "+-----------------------------------------------------------+\n",
            "|(13,[1,5,7,10,11],[1.0,1.0,42.0,98.53,18.5])               |\n",
            "|(13,[1,7,10,11,12],[1.0,20.0,94.67,28.8,0.5])              |\n",
            "|(13,[0,1,7,10,11,12],[1.0,1.0,43.0,88.23,37.6,0.5])        |\n",
            "|(13,[0,1,5,6,7,10,11],[1.0,1.0,1.0,1.0,79.0,198.79,24.9])  |\n",
            "|(13,[0,1,5,7,10,11,12],[1.0,1.0,1.0,58.0,105.74,26.8,0.75])|\n",
            "|(13,[0,3,5,7,10,11,12],[1.0,1.0,1.0,37.0,72.09,24.1,1.0])  |\n",
            "|(13,[4,7,10,11,12],[1.0,3.0,94.12,21.4,0.5])               |\n",
            "|(13,[4,7,10,11,12],[1.0,14.0,92.22,22.8,0.5])              |\n",
            "|(13,[3,7,10,11],[1.0,39.0,87.33,34.3])                     |\n",
            "|(13,[4,7,10,11,12],[1.0,5.0,75.1,20.7,0.5])                |\n",
            "|(13,[0,2,5,7,10,11,12],[1.0,1.0,1.0,74.0,68.18,27.3,0.75]) |\n",
            "|(13,[1,7,10,11],[1.0,16.0,87.54,37.8])                     |\n",
            "|(13,[0,1,5,6,7,10,11],[1.0,1.0,1.0,1.0,34.0,83.75,37.0])   |\n",
            "|(13,[4,6,7,10,11,12],[1.0,1.0,3.0,65.85,17.0,0.5])         |\n",
            "|(13,[1,5,7,10,11],[1.0,1.0,14.0,83.42,28.7])               |\n",
            "|(13,[0,1,7,10,11,12],[1.0,1.0,68.0,211.06,39.3,0.5])       |\n",
            "|(13,[0,1,7,10,11],[1.0,1.0,45.0,87.47,21.5])               |\n",
            "|[1.0,0.0,1.0,0.0,0.0,1.0,1.0,33.0,0.0,0.0,90.68,31.7,1.0]  |\n",
            "|(13,[0,2,5,7,10,11],[1.0,1.0,1.0,31.0,82.31,31.9])         |\n",
            "|(13,[0,1,7,8,10,11,12],[1.0,1.0,67.0,1.0,179.12,28.1,0.75])|\n",
            "+-----------------------------------------------------------+\n",
            "only showing top 20 rows\n",
            "\n"
          ]
        }
      ]
    },
    {
      "cell_type": "code",
      "metadata": {
        "id": "3ea267eb"
      },
      "source": [
        ""
      ],
      "id": "3ea267eb",
      "execution_count": null,
      "outputs": []
    },
    {
      "cell_type": "code",
      "metadata": {
        "scrolled": false,
        "id": "480d892e"
      },
      "source": [
        ""
      ],
      "id": "480d892e",
      "execution_count": null,
      "outputs": []
    },
    {
      "cell_type": "markdown",
      "metadata": {
        "id": "daec120f"
      },
      "source": [
        "### Evaluate the model performance\n",
        "- Use <b>BinaryClassificationEvaluator</b>. This will calculate the <b>ROC</b>.\n",
        "- Set the parameters as follow:\n",
        "    - <b>rawPredictionCol='prediction'</b> and <b>labelCol='stroke'</b>"
      ],
      "id": "daec120f"
    },
    {
      "cell_type": "code",
      "metadata": {
        "id": "a7b5ad25"
      },
      "source": [
        "from pyspark.ml.evaluation import BinaryClassificationEvaluator"
      ],
      "id": "a7b5ad25",
      "execution_count": 74,
      "outputs": []
    },
    {
      "cell_type": "code",
      "metadata": {
        "id": "44d3a1e6"
      },
      "source": [
        "evaluatorROC = BinaryClassificationEvaluator(rawPredictionCol='prediction'\n",
        "                                             ,labelCol='stroke')"
      ],
      "id": "44d3a1e6",
      "execution_count": 75,
      "outputs": []
    },
    {
      "cell_type": "code",
      "metadata": {
        "colab": {
          "base_uri": "https://localhost:8080/"
        },
        "id": "hjPFuckJGt39",
        "outputId": "b6c5e907-cd8d-4d69-97c3-c662aa48ce41"
      },
      "source": [
        "evaluatorROC.evaluate(predDF)"
      ],
      "id": "hjPFuckJGt39",
      "execution_count": 76,
      "outputs": [
        {
          "output_type": "execute_result",
          "data": {
            "text/plain": [
              "0.5"
            ]
          },
          "metadata": {},
          "execution_count": 76
        }
      ]
    },
    {
      "cell_type": "code",
      "metadata": {
        "id": "3adbe41f",
        "outputId": "7c8d5b87-6bf2-4260-eca2-d1cf9575c78a"
      },
      "source": [
        "evaluatorROC.evaluate(pred)"
      ],
      "id": "3adbe41f",
      "execution_count": null,
      "outputs": [
        {
          "data": {
            "text/plain": [
              "0.4994246260069045"
            ]
          },
          "execution_count": 52,
          "metadata": {},
          "output_type": "execute_result"
        }
      ]
    },
    {
      "cell_type": "markdown",
      "metadata": {
        "id": "40206589"
      },
      "source": [
        "### Improve Model Performance\n",
        "- You may noticed that <b>the target label is imbalanced</b>.\n",
        "- LogisticRegression classifier has a special parameter <b>weightCol</b> to deal with imbalanced class.\n",
        "- In order to use this parameter you must have a <b>weightCol</b> in your training dataframe.\n",
        "- In order to create this column you will need to define a <b>UDF</b> and apply it to the target label column.\n",
        "- Create a LogisticRegression classifier with <b>weightCol</b> parameter.\n",
        "- Build and train a pipeline model with the new LogisticRegression.\n",
        "- Perform the prediction on the test dataframe. \n",
        "- Select and show both prediction and label columns.\n",
        "- Explore the results for the label column stroke=1. i.e. select both columns (prediction,stroke) for stroke=1.<b>notice the result.</b> \n",
        "- Count the predicted 1 and 0 values.<b>notice the result.</b>   \n",
        "- Evaluate the model performance exactly as in the previous step.\n",
        "### YOU SHOULD OBTAIN  ROC > 0.65\n",
        "<BR>\n",
        "<b><font color='red'>Note: feel free to deal with the imbalanced cluster with the above method or another. However, you can only use methods applied on SPARK DATAFRAME</font></b>"
      ],
      "id": "40206589"
    },
    {
      "cell_type": "code",
      "metadata": {
        "colab": {
          "base_uri": "https://localhost:8080/"
        },
        "id": "5l4V0HoxHcvE",
        "outputId": "2c7a4690-8635-473a-a459-f925dd03eefe"
      },
      "source": [
        "trainDF.select('stroke').show()"
      ],
      "id": "5l4V0HoxHcvE",
      "execution_count": 78,
      "outputs": [
        {
          "output_type": "stream",
          "name": "stdout",
          "text": [
            "+------+\n",
            "|stroke|\n",
            "+------+\n",
            "|     0|\n",
            "|     0|\n",
            "|     0|\n",
            "|     0|\n",
            "|     0|\n",
            "|     0|\n",
            "|     0|\n",
            "|     0|\n",
            "|     0|\n",
            "|     0|\n",
            "|     1|\n",
            "|     0|\n",
            "|     0|\n",
            "|     0|\n",
            "|     0|\n",
            "|     0|\n",
            "|     0|\n",
            "|     0|\n",
            "|     0|\n",
            "|     0|\n",
            "+------+\n",
            "only showing top 20 rows\n",
            "\n"
          ]
        }
      ]
    },
    {
      "cell_type": "code",
      "metadata": {
        "colab": {
          "base_uri": "https://localhost:8080/"
        },
        "id": "2JlKmJZ3H46j",
        "outputId": "7c8dca7e-ad5b-4c3d-b6f7-b97f7cf82dc3"
      },
      "source": [
        "total_number = trainDF.select('stroke').agg(count(col('stroke'))).collect()[0][0]\n",
        "total_number"
      ],
      "id": "2JlKmJZ3H46j",
      "execution_count": 82,
      "outputs": [
        {
          "output_type": "execute_result",
          "data": {
            "text/plain": [
              "4037"
            ]
          },
          "metadata": {},
          "execution_count": 82
        }
      ]
    },
    {
      "cell_type": "code",
      "metadata": {
        "id": "xPXwvEx1I_SQ"
      },
      "source": [
        "class1_prop = trainDF.where(col('stroke')==1).count()/ total_number\n",
        "class0_prop = trainDF.where(col('stroke')==0).count()/ total_number"
      ],
      "id": "xPXwvEx1I_SQ",
      "execution_count": 89,
      "outputs": []
    },
    {
      "cell_type": "code",
      "metadata": {
        "colab": {
          "base_uri": "https://localhost:8080/"
        },
        "id": "Lq7sCEwyHcxH",
        "outputId": "6c5ef2ea-4865-4512-a835-a325fbbcb851"
      },
      "source": [
        "class1_prop"
      ],
      "id": "Lq7sCEwyHcxH",
      "execution_count": 90,
      "outputs": [
        {
          "output_type": "execute_result",
          "data": {
            "text/plain": [
              "0.05003715630418628"
            ]
          },
          "metadata": {},
          "execution_count": 90
        }
      ]
    },
    {
      "cell_type": "code",
      "metadata": {
        "colab": {
          "base_uri": "https://localhost:8080/"
        },
        "id": "ujh0UpehKq2L",
        "outputId": "af925917-16bd-498a-cf5a-d4f3ee64bb74"
      },
      "source": [
        "class0_prop"
      ],
      "id": "ujh0UpehKq2L",
      "execution_count": 91,
      "outputs": [
        {
          "output_type": "execute_result",
          "data": {
            "text/plain": [
              "0.9499628436958137"
            ]
          },
          "metadata": {},
          "execution_count": 91
        }
      ]
    },
    {
      "cell_type": "code",
      "metadata": {
        "colab": {
          "base_uri": "https://localhost:8080/"
        },
        "id": "nT8RRUs5LaWe",
        "outputId": "317341f6-ec03-474d-83ef-dcc014f94757"
      },
      "source": [
        "dict_prop = {1:class0_prop, 0:class1_prop}\n",
        "dict_prop"
      ],
      "id": "nT8RRUs5LaWe",
      "execution_count": 150,
      "outputs": [
        {
          "output_type": "execute_result",
          "data": {
            "text/plain": [
              "{0: 0.05003715630418628, 1: 0.9499628436958137}"
            ]
          },
          "metadata": {},
          "execution_count": 150
        }
      ]
    },
    {
      "cell_type": "code",
      "metadata": {
        "id": "3KGr1p8NKxMp"
      },
      "source": [
        "def weighCol(value):\n",
        "    return dict_prop[value]"
      ],
      "id": "3KGr1p8NKxMp",
      "execution_count": 151,
      "outputs": []
    },
    {
      "cell_type": "markdown",
      "metadata": {
        "id": "1naofompNQeH"
      },
      "source": [
        ""
      ],
      "id": "1naofompNQeH"
    },
    {
      "cell_type": "code",
      "metadata": {
        "id": "OKsdXnMVK_bP"
      },
      "source": [
        "imputeStroke = udf(lambda z: weighCol(z), DoubleType())"
      ],
      "id": "OKsdXnMVK_bP",
      "execution_count": 152,
      "outputs": []
    },
    {
      "cell_type": "code",
      "metadata": {
        "id": "NMLzarU2MMd_"
      },
      "source": [
        "train_updated = trainDF.withColumn(\"weightCol\", imputeStroke(\"stroke\"))"
      ],
      "id": "NMLzarU2MMd_",
      "execution_count": 153,
      "outputs": []
    },
    {
      "cell_type": "code",
      "metadata": {
        "colab": {
          "base_uri": "https://localhost:8080/"
        },
        "id": "_TypYJ0INZiC",
        "outputId": "922664ed-6f43-4903-f71a-90b288505244"
      },
      "source": [
        "train_updated.select(\"weightCol\", \"stroke\").show()"
      ],
      "id": "_TypYJ0INZiC",
      "execution_count": 154,
      "outputs": [
        {
          "output_type": "stream",
          "name": "stdout",
          "text": [
            "+-------------------+------+\n",
            "|          weightCol|stroke|\n",
            "+-------------------+------+\n",
            "|0.05003715630418628|     0|\n",
            "|0.05003715630418628|     0|\n",
            "|0.05003715630418628|     0|\n",
            "|0.05003715630418628|     0|\n",
            "|0.05003715630418628|     0|\n",
            "|0.05003715630418628|     0|\n",
            "|0.05003715630418628|     0|\n",
            "|0.05003715630418628|     0|\n",
            "|0.05003715630418628|     0|\n",
            "|0.05003715630418628|     0|\n",
            "| 0.9499628436958137|     1|\n",
            "|0.05003715630418628|     0|\n",
            "|0.05003715630418628|     0|\n",
            "|0.05003715630418628|     0|\n",
            "|0.05003715630418628|     0|\n",
            "|0.05003715630418628|     0|\n",
            "|0.05003715630418628|     0|\n",
            "|0.05003715630418628|     0|\n",
            "|0.05003715630418628|     0|\n",
            "|0.05003715630418628|     0|\n",
            "+-------------------+------+\n",
            "only showing top 20 rows\n",
            "\n"
          ]
        }
      ]
    },
    {
      "cell_type": "code",
      "metadata": {
        "colab": {
          "base_uri": "https://localhost:8080/"
        },
        "id": "cs3dMJ6WPWPO",
        "outputId": "6b2919d9-8c85-4805-a1c6-1d1855240cbb"
      },
      "source": [
        "train_updated.printSchema()"
      ],
      "id": "cs3dMJ6WPWPO",
      "execution_count": 155,
      "outputs": [
        {
          "output_type": "stream",
          "name": "stdout",
          "text": [
            "root\n",
            " |-- id: integer (nullable = true)\n",
            " |-- gender: double (nullable = true)\n",
            " |-- age: double (nullable = true)\n",
            " |-- hypertension: integer (nullable = true)\n",
            " |-- heart_disease: integer (nullable = true)\n",
            " |-- ever_married: string (nullable = true)\n",
            " |-- work_type: string (nullable = true)\n",
            " |-- Residence_type: string (nullable = true)\n",
            " |-- avg_glucose_level: double (nullable = true)\n",
            " |-- bmi: double (nullable = true)\n",
            " |-- smoking_status: double (nullable = true)\n",
            " |-- stroke: integer (nullable = true)\n",
            " |-- weightCol: double (nullable = true)\n",
            "\n"
          ]
        }
      ]
    },
    {
      "cell_type": "code",
      "metadata": {
        "id": "03385adc"
      },
      "source": [
        ""
      ],
      "id": "03385adc",
      "execution_count": 155,
      "outputs": []
    },
    {
      "cell_type": "code",
      "metadata": {
        "id": "00e034e9"
      },
      "source": [
        "lr_weightcol = LogisticRegression(featuresCol='features',labelCol='stroke', weightCol=\"weightCol\")"
      ],
      "id": "00e034e9",
      "execution_count": 156,
      "outputs": []
    },
    {
      "cell_type": "code",
      "metadata": {
        "id": "66efa0c6"
      },
      "source": [
        "pipeline_updated = Pipeline(stages=[stringIndexer,oheEncoder, vectorAssembler, lr_weightcol])"
      ],
      "id": "66efa0c6",
      "execution_count": 157,
      "outputs": []
    },
    {
      "cell_type": "code",
      "metadata": {
        "id": "i_D_c4wgPCJa"
      },
      "source": [
        "pipelineModel_updated = pipeline_updated.fit(train_updated)"
      ],
      "id": "i_D_c4wgPCJa",
      "execution_count": 158,
      "outputs": []
    },
    {
      "cell_type": "code",
      "metadata": {
        "id": "DBV5PSfyPQCw"
      },
      "source": [
        "predDF_updated = pipelineModel_updated.transform(testDF)"
      ],
      "id": "DBV5PSfyPQCw",
      "execution_count": 159,
      "outputs": []
    },
    {
      "cell_type": "code",
      "metadata": {
        "colab": {
          "base_uri": "https://localhost:8080/"
        },
        "id": "y7UMWFeTP7yu",
        "outputId": "fc8673e9-6e17-4976-a9ce-151da2178b99"
      },
      "source": [
        "evaluatorROC.evaluate(predDF_updated)"
      ],
      "id": "y7UMWFeTP7yu",
      "execution_count": 160,
      "outputs": [
        {
          "output_type": "execute_result",
          "data": {
            "text/plain": [
              "0.7757777671252577"
            ]
          },
          "metadata": {},
          "execution_count": 160
        }
      ]
    },
    {
      "cell_type": "markdown",
      "metadata": {
        "id": "e00e7b53"
      },
      "source": [
        "# GOOD LUCK\n",
        "<b><font color='GREEN'>AI-PRO Spark Team ITI</font></b>"
      ],
      "id": "e00e7b53"
    },
    {
      "cell_type": "markdown",
      "metadata": {
        "id": "0e065922"
      },
      "source": [
        "![image-3.png](attachment:image-3.png)"
      ],
      "id": "0e065922"
    }
  ]
}